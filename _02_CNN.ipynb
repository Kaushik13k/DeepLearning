{
 "cells": [
  {
   "cell_type": "markdown",
   "id": "c99c19fc",
   "metadata": {},
   "source": [
    "# Convolution Neural Network"
   ]
  },
  {
   "cell_type": "code",
   "execution_count": 1,
   "id": "4f0fc86a",
   "metadata": {},
   "outputs": [],
   "source": [
    "import tensorflow as tf\n",
    "from keras.preprocessing.image import ImageDataGenerator"
   ]
  },
  {
   "cell_type": "code",
   "execution_count": 3,
   "id": "848baea2",
   "metadata": {},
   "outputs": [
    {
     "data": {
      "text/plain": [
       "'2.5.0'"
      ]
     },
     "execution_count": 3,
     "metadata": {},
     "output_type": "execute_result"
    }
   ],
   "source": [
    "tf.__version__"
   ]
  },
  {
   "cell_type": "markdown",
   "id": "70667792",
   "metadata": {},
   "source": [
    "# Part 1: Data Processing"
   ]
  },
  {
   "cell_type": "code",
   "execution_count": 4,
   "id": "2768b772",
   "metadata": {},
   "outputs": [
    {
     "name": "stdout",
     "output_type": "stream",
     "text": [
      "Found 8000 images belonging to 2 classes.\n"
     ]
    }
   ],
   "source": [
    "### Processing the Training Data\n",
    "# Transformation on training data for avoiding the overfitting\n",
    "# Geometrical Transformation\n",
    "train_datagen = ImageDataGenerator(\n",
    "        rescale=1./255,\n",
    "        shear_range=0.2,\n",
    "        zoom_range=0.2,\n",
    "        horizontal_flip=True)\n",
    "# Import trai dataset\n",
    "training_set = train_datagen.flow_from_directory(\n",
    "        'C:/Users/13kau/Desktop/DeepLearnin/dataset/training_set',\n",
    "        target_size=(64, 64),\n",
    "        batch_size=32,\n",
    "        class_mode='binary')"
   ]
  },
  {
   "cell_type": "code",
   "execution_count": 5,
   "id": "17b3e9b6",
   "metadata": {},
   "outputs": [
    {
     "name": "stdout",
     "output_type": "stream",
     "text": [
      "Found 2000 images belonging to 2 classes.\n"
     ]
    }
   ],
   "source": [
    "### Processing the Testing Data\n",
    "# Dont add same transformation ad training jus the scale in enough!\n",
    "test_datagen = ImageDataGenerator(rescale=1./255)\n",
    "# import test dataset\n",
    "test_set = test_datagen.flow_from_directory(\n",
    "        'C:/Users/13kau/Desktop/DeepLearnin/dataset/test_set',\n",
    "        target_size=(64, 64),\n",
    "        batch_size=32,\n",
    "        class_mode='binary')"
   ]
  },
  {
   "cell_type": "markdown",
   "id": "5c575896",
   "metadata": {},
   "source": [
    "# Part 2: Building CNN"
   ]
  },
  {
   "cell_type": "code",
   "execution_count": 7,
   "id": "1d485fd1",
   "metadata": {},
   "outputs": [],
   "source": [
    "### Initialize the CNN\n",
    "cnn = tf.keras.models.Sequential()"
   ]
  },
  {
   "cell_type": "code",
   "execution_count": 10,
   "id": "908a75fb",
   "metadata": {},
   "outputs": [],
   "source": [
    "### Step 1: Convolution\n",
    "cnn.add(tf.keras.layers.Conv2D(filters=32, kernel_size=3, activation='relu', input_shape=[64, 64, 3]))"
   ]
  },
  {
   "cell_type": "code",
   "execution_count": 12,
   "id": "f97ad817",
   "metadata": {},
   "outputs": [],
   "source": [
    "### Step 2: Pooling\n",
    "cnn.add(tf.keras.layers.MaxPool2D(pool_size=2, strides=2))"
   ]
  },
  {
   "cell_type": "code",
   "execution_count": 13,
   "id": "6c090890",
   "metadata": {},
   "outputs": [],
   "source": [
    "### Adding a second Convolition layer\n",
    "cnn.add(tf.keras.layers.Conv2D(filters=32, kernel_size=3, activation='relu'))\n",
    "cnn.add(tf.keras.layers.MaxPool2D(pool_size=2, strides=2))"
   ]
  },
  {
   "cell_type": "code",
   "execution_count": 14,
   "id": "961437f0",
   "metadata": {},
   "outputs": [],
   "source": [
    "### Step 3: Flattening\n",
    "cnn.add(tf.keras.layers.Flatten())"
   ]
  },
  {
   "cell_type": "code",
   "execution_count": 15,
   "id": "f2aac2cf",
   "metadata": {},
   "outputs": [],
   "source": [
    "### Step 4 : Full Connection\n",
    "cnn.add(tf.keras.layers.Dense(units=128, activation='relu'))"
   ]
  },
  {
   "cell_type": "code",
   "execution_count": 16,
   "id": "efe4cae6",
   "metadata": {},
   "outputs": [],
   "source": [
    "### Step 5: Output Layer\n",
    "cnn.add(tf.keras.layers.Dense(units=1, activation='sigmoid'))"
   ]
  },
  {
   "cell_type": "markdown",
   "id": "75746190",
   "metadata": {},
   "source": [
    "# Part 3: Training the CNN"
   ]
  },
  {
   "cell_type": "code",
   "execution_count": 17,
   "id": "22039650",
   "metadata": {},
   "outputs": [],
   "source": [
    "### Compiling the CNN\n",
    "cnn.compile(optimizer='adam', loss='binary_crossentropy', metrics=['accuracy'])"
   ]
  },
  {
   "cell_type": "code",
   "execution_count": 18,
   "id": "697d0044",
   "metadata": {},
   "outputs": [
    {
     "name": "stdout",
     "output_type": "stream",
     "text": [
      "Epoch 1/25\n",
      "250/250 [==============================] - 84s 333ms/step - loss: 0.6553 - accuracy: 0.6030 - val_loss: 0.6368 - val_accuracy: 0.6140\n",
      "Epoch 2/25\n",
      "250/250 [==============================] - 42s 169ms/step - loss: 0.5726 - accuracy: 0.7007 - val_loss: 0.6339 - val_accuracy: 0.6585\n",
      "Epoch 3/25\n",
      "250/250 [==============================] - 43s 174ms/step - loss: 0.5443 - accuracy: 0.7236 - val_loss: 0.5287 - val_accuracy: 0.7465\n",
      "Epoch 4/25\n",
      "250/250 [==============================] - 41s 164ms/step - loss: 0.5101 - accuracy: 0.7483 - val_loss: 0.4859 - val_accuracy: 0.7590\n",
      "Epoch 5/25\n",
      "250/250 [==============================] - 42s 167ms/step - loss: 0.5013 - accuracy: 0.7555 - val_loss: 0.4689 - val_accuracy: 0.7765\n",
      "Epoch 6/25\n",
      "250/250 [==============================] - 41s 164ms/step - loss: 0.4654 - accuracy: 0.7735 - val_loss: 0.4671 - val_accuracy: 0.7800\n",
      "Epoch 7/25\n",
      "250/250 [==============================] - 40s 160ms/step - loss: 0.4658 - accuracy: 0.7725 - val_loss: 0.4797 - val_accuracy: 0.7800\n",
      "Epoch 8/25\n",
      "250/250 [==============================] - 40s 159ms/step - loss: 0.4398 - accuracy: 0.7915 - val_loss: 0.4567 - val_accuracy: 0.7965\n",
      "Epoch 9/25\n",
      "250/250 [==============================] - 40s 160ms/step - loss: 0.4312 - accuracy: 0.7989 - val_loss: 0.4492 - val_accuracy: 0.7930\n",
      "Epoch 10/25\n",
      "250/250 [==============================] - 40s 160ms/step - loss: 0.4074 - accuracy: 0.8134 - val_loss: 0.4771 - val_accuracy: 0.7835\n",
      "Epoch 11/25\n",
      "250/250 [==============================] - 40s 160ms/step - loss: 0.4006 - accuracy: 0.8140 - val_loss: 0.4538 - val_accuracy: 0.8055\n",
      "Epoch 12/25\n",
      "250/250 [==============================] - 40s 159ms/step - loss: 0.3901 - accuracy: 0.8196 - val_loss: 0.4517 - val_accuracy: 0.7980\n",
      "Epoch 13/25\n",
      "250/250 [==============================] - 40s 159ms/step - loss: 0.3769 - accuracy: 0.8295 - val_loss: 0.4444 - val_accuracy: 0.7965\n",
      "Epoch 14/25\n",
      "250/250 [==============================] - 40s 160ms/step - loss: 0.3625 - accuracy: 0.8366 - val_loss: 0.4580 - val_accuracy: 0.7935\n",
      "Epoch 15/25\n",
      "250/250 [==============================] - 40s 159ms/step - loss: 0.3502 - accuracy: 0.8410 - val_loss: 0.4718 - val_accuracy: 0.8020\n",
      "Epoch 16/25\n",
      "250/250 [==============================] - 40s 160ms/step - loss: 0.3428 - accuracy: 0.8479 - val_loss: 0.5314 - val_accuracy: 0.7695\n",
      "Epoch 17/25\n",
      "250/250 [==============================] - 40s 160ms/step - loss: 0.3276 - accuracy: 0.8594 - val_loss: 0.4462 - val_accuracy: 0.8160\n",
      "Epoch 18/25\n",
      "250/250 [==============================] - 41s 163ms/step - loss: 0.3097 - accuracy: 0.8692 - val_loss: 0.4646 - val_accuracy: 0.7995\n",
      "Epoch 19/25\n",
      "250/250 [==============================] - 40s 160ms/step - loss: 0.3099 - accuracy: 0.8639 - val_loss: 0.4725 - val_accuracy: 0.8030\n",
      "Epoch 20/25\n",
      "250/250 [==============================] - 40s 160ms/step - loss: 0.2910 - accuracy: 0.8708 - val_loss: 0.4480 - val_accuracy: 0.8060\n",
      "Epoch 21/25\n",
      "250/250 [==============================] - 40s 160ms/step - loss: 0.2708 - accuracy: 0.8860 - val_loss: 0.5240 - val_accuracy: 0.8075\n",
      "Epoch 22/25\n",
      "250/250 [==============================] - 40s 160ms/step - loss: 0.2654 - accuracy: 0.8899 - val_loss: 0.5437 - val_accuracy: 0.7875\n",
      "Epoch 23/25\n",
      "250/250 [==============================] - 40s 161ms/step - loss: 0.2434 - accuracy: 0.8966 - val_loss: 0.4832 - val_accuracy: 0.8070\n",
      "Epoch 24/25\n",
      "250/250 [==============================] - 40s 159ms/step - loss: 0.2427 - accuracy: 0.8951 - val_loss: 0.5116 - val_accuracy: 0.8100\n",
      "Epoch 25/25\n",
      "250/250 [==============================] - 40s 160ms/step - loss: 0.2218 - accuracy: 0.9076 - val_loss: 0.5751 - val_accuracy: 0.7905\n"
     ]
    },
    {
     "data": {
      "text/plain": [
       "<tensorflow.python.keras.callbacks.History at 0x2bcc7e182e0>"
      ]
     },
     "execution_count": 18,
     "metadata": {},
     "output_type": "execute_result"
    }
   ],
   "source": [
    "### Training the CNN on the Training set and evaluating it on the Test set\n",
    "cnn.fit(x = training_set, validation_data= test_set, epochs=25)"
   ]
  },
  {
   "cell_type": "markdown",
   "id": "b70285b6",
   "metadata": {},
   "source": [
    "# Part 4: Making the simple prediction!"
   ]
  },
  {
   "cell_type": "code",
   "execution_count": 24,
   "id": "7d51734d",
   "metadata": {},
   "outputs": [
    {
     "data": {
      "text/plain": [
       "array([[1.]], dtype=float32)"
      ]
     },
     "execution_count": 24,
     "metadata": {},
     "output_type": "execute_result"
    }
   ],
   "source": [
    "import numpy as np\n",
    "from keras.preprocessing import image\n",
    "test_image = image.load_img('C:/Users/13kau/Desktop/DeepLearnin/dataset/single_prediction/cat_or_dog_1.jpg', target_size=(64, 64))\n",
    "test_image = image.img_to_array(test_image) # convert to numpy\n",
    "test_image = np.expand_dims(test_image, axis = 0) # Add extra dimention for the batch sake\n",
    "result = cnn.predict(test_image)\n",
    "result"
   ]
  },
  {
   "cell_type": "code",
   "execution_count": 25,
   "id": "597de483",
   "metadata": {},
   "outputs": [],
   "source": [
    "training_set.class_indices\n",
    "if result[0][0] == 1:\n",
    "    pediction = 'dog'\n",
    "else:\n",
    "    pediction = 'cat'"
   ]
  },
  {
   "cell_type": "code",
   "execution_count": 26,
   "id": "2cd61466",
   "metadata": {},
   "outputs": [
    {
     "name": "stdout",
     "output_type": "stream",
     "text": [
      "dog\n"
     ]
    }
   ],
   "source": [
    "print(pediction)"
   ]
  },
  {
   "cell_type": "code",
   "execution_count": null,
   "id": "23b7ab04",
   "metadata": {},
   "outputs": [],
   "source": []
  }
 ],
 "metadata": {
  "kernelspec": {
   "display_name": "Python 3",
   "language": "python",
   "name": "python3"
  },
  "language_info": {
   "codemirror_mode": {
    "name": "ipython",
    "version": 3
   },
   "file_extension": ".py",
   "mimetype": "text/x-python",
   "name": "python",
   "nbconvert_exporter": "python",
   "pygments_lexer": "ipython3",
   "version": "3.8.8"
  }
 },
 "nbformat": 4,
 "nbformat_minor": 5
}
